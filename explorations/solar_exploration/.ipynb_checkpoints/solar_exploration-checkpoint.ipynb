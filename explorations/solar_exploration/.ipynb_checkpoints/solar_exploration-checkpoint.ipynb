{
 "cells": [
  {
   "cell_type": "code",
   "execution_count": 2,
   "metadata": {
    "colab": {},
    "colab_type": "code",
    "id": "rME9SkBfuzwr"
   },
   "outputs": [
    {
     "ename": "ModuleNotFoundError",
     "evalue": "No module named 'pandas'",
     "output_type": "error",
     "traceback": [
      "\u001b[0;31m---------------------------------------------------------------------------\u001b[0m",
      "\u001b[0;31mModuleNotFoundError\u001b[0m                       Traceback (most recent call last)",
      "\u001b[0;32m<ipython-input-2-71225e3ad40e>\u001b[0m in \u001b[0;36m<module>\u001b[0;34m\u001b[0m\n\u001b[0;32m----> 1\u001b[0;31m \u001b[0;32mimport\u001b[0m \u001b[0mpandas\u001b[0m \u001b[0;32mas\u001b[0m \u001b[0mpd\u001b[0m\u001b[0;34m\u001b[0m\u001b[0;34m\u001b[0m\u001b[0m\n\u001b[0m\u001b[1;32m      2\u001b[0m \u001b[0;32mimport\u001b[0m \u001b[0mmatplotlib\u001b[0m\u001b[0;34m.\u001b[0m\u001b[0mpyplot\u001b[0m \u001b[0;32mas\u001b[0m \u001b[0mplt\u001b[0m\u001b[0;34m\u001b[0m\u001b[0;34m\u001b[0m\u001b[0m\n",
      "\u001b[0;31mModuleNotFoundError\u001b[0m: No module named 'pandas'"
     ]
    }
   ],
   "source": [
    "import pandas as pd\n",
    "import matplotlib.pyplot as plt"
   ]
  },
  {
   "cell_type": "code",
   "execution_count": 1,
   "metadata": {
    "colab": {
     "base_uri": "https://localhost:8080/",
     "height": 260
    },
    "colab_type": "code",
    "id": "uxg41IZCvIeX",
    "outputId": "99447c60-36e2-4550-8a27-10b45a12730b"
   },
   "outputs": [
    {
     "ename": "NameError",
     "evalue": "name 'pd' is not defined",
     "output_type": "error",
     "traceback": [
      "\u001b[0;31m---------------------------------------------------------------------------\u001b[0m",
      "\u001b[0;31mNameError\u001b[0m                                 Traceback (most recent call last)",
      "\u001b[0;32m<ipython-input-1-3a2d5e12608b>\u001b[0m in \u001b[0;36m<module>\u001b[0;34m\u001b[0m\n\u001b[1;32m      3\u001b[0m \u001b[0;34m\u001b[0m\u001b[0m\n\u001b[1;32m      4\u001b[0m \u001b[0;32mwith\u001b[0m \u001b[0mopen\u001b[0m\u001b[0;34m(\u001b[0m\u001b[0mDEMAND_DATA\u001b[0m\u001b[0;34m,\u001b[0m \u001b[0;34m'r'\u001b[0m\u001b[0;34m)\u001b[0m \u001b[0;32mas\u001b[0m \u001b[0mf\u001b[0m\u001b[0;34m:\u001b[0m\u001b[0;34m\u001b[0m\u001b[0;34m\u001b[0m\u001b[0m\n\u001b[0;32m----> 5\u001b[0;31m   \u001b[0mdf\u001b[0m \u001b[0;34m=\u001b[0m \u001b[0mpd\u001b[0m\u001b[0;34m.\u001b[0m\u001b[0mread_csv\u001b[0m\u001b[0;34m(\u001b[0m\u001b[0mf\u001b[0m\u001b[0;34m)\u001b[0m\u001b[0;34m\u001b[0m\u001b[0;34m\u001b[0m\u001b[0m\n\u001b[0m\u001b[1;32m      6\u001b[0m \u001b[0;34m\u001b[0m\u001b[0m\n\u001b[1;32m      7\u001b[0m \u001b[0;32mwith\u001b[0m \u001b[0mopen\u001b[0m\u001b[0;34m(\u001b[0m\u001b[0mGHI_DATA\u001b[0m\u001b[0;34m,\u001b[0m \u001b[0;34m'r'\u001b[0m\u001b[0;34m)\u001b[0m \u001b[0;32mas\u001b[0m \u001b[0mf\u001b[0m\u001b[0;34m:\u001b[0m\u001b[0;34m\u001b[0m\u001b[0;34m\u001b[0m\u001b[0m\n",
      "\u001b[0;31mNameError\u001b[0m: name 'pd' is not defined"
     ]
    }
   ],
   "source": [
    "DEMAND_DATA = 'half-hourly-system-demand-data-from-2-feb-2012-onwards.csv'\n",
    "GHI_DATA = 'DRW_07-2019_06-2020_GHI.csv'\n",
    "      \n",
    "with open(DEMAND_DATA, 'r') as f:\n",
    "  df = pd.read_csv(f)\n",
    "\n",
    "with open(GHI_DATA, 'r') as f:\n",
    "  ghi_df = pd.read_csv(f)\n",
    "\n",
    "#print(df)\n",
    "#print(ghi_df)\n",
    "\n",
    "ghi_df = ghi_df.drop(columns=['Unnamed: 3', 'Unnamed: 4', 'Unnamed: 5', 'Unnamed: 6'])\n",
    "\n",
    "# GHI data is W/m2, the other one was a daily total of kWh/m2\n",
    "print(ghi_df)"
   ]
  },
  {
   "cell_type": "code",
   "execution_count": null,
   "metadata": {
    "colab": {
     "base_uri": "https://localhost:8080/",
     "height": 260
    },
    "colab_type": "code",
    "id": "JhR3wMlpIfV-",
    "outputId": "fd99dbd8-af80-4d9a-c144-32610005e6a9"
   },
   "outputs": [
    {
     "name": "stdout",
     "output_type": "stream",
     "text": [
      "                 Time Timezone   GHI_AVG  PVOUT_AVG\n",
      "288  02/07/2019 00:00     ACST -2.288212  -0.318977\n",
      "289  02/07/2019 00:05     ACST -2.207044  -0.307662\n",
      "290  02/07/2019 00:10     ACST -2.097399  -0.292377\n",
      "291  02/07/2019 00:15     ACST -2.098669  -0.292554\n",
      "292  02/07/2019 00:20     ACST -2.126001  -0.296364\n",
      "..                ...      ...       ...        ...\n",
      "572  02/07/2019 23:40     ACST -2.567105  -0.357854\n",
      "573  02/07/2019 23:45     ACST -2.545830  -0.354889\n",
      "574  02/07/2019 23:50     ACST -2.489317  -0.347011\n",
      "575  02/07/2019 23:55     ACST -2.493965  -0.347659\n",
      "576  03/07/2019 00:00     ACST -2.455383  -0.342280\n",
      "\n",
      "[289 rows x 4 columns]\n"
     ]
    }
   ],
   "source": [
    "# Let's calculate the power produced by 1m2 of solar panel.\n",
    "# After using the stats for the solar panel (3)\n",
    "\n",
    "# The solar panel has a width of 5550mm and a length of 37330mm\n",
    "# The area is therefore 207.8 sq m.\n",
    "\n",
    "# It produces 34.2 kWp at peak with 207.8 sqm which means that \n",
    "# the efficiency is 16.4%.\n",
    "# That is for, 1kW/m2 of irradiance, you get 0.16kWp per m2 of the solar panel.\n",
    "\n",
    "# There is also a is a 15% loss due to cloud cover, fouling, etc.\n",
    "\n",
    "# Hence, the PVOUT average per GHI is equal to \n",
    "\n",
    "ghi_df['PVOUT_AVG'] = ghi_df['GHI_AVG'] * 0.164 * 0.85\n",
    "\n",
    "print(ghi_df[288:577])"
   ]
  },
  {
   "cell_type": "code",
   "execution_count": null,
   "metadata": {
    "colab": {},
    "colab_type": "code",
    "id": "bUM-5me70nF6"
   },
   "outputs": [],
   "source": [
    "ghi_df['time'] = pd.to_datetime(ghi_df['Time'], dayfirst=True)\n",
    "ghi_df = ghi_df[ghi_df['GHI_AVG'].notnull()]"
   ]
  },
  {
   "cell_type": "code",
   "execution_count": null,
   "metadata": {
    "colab": {},
    "colab_type": "code",
    "id": "sDObunNyqMI8"
   },
   "outputs": [],
   "source": [
    "# localise timezone to make timezone aware\n",
    "\n",
    "ghi_df['time2'] = ghi_df['time'].dt.tz_localize(tz='Australia/Darwin')\n",
    "ghi_df['time2'] = pd.DatetimeIndex(ghi_df['time2']).tz_convert(tz='Asia/Singapore')"
   ]
  },
  {
   "cell_type": "code",
   "execution_count": 1,
   "metadata": {
    "colab": {
     "base_uri": "https://localhost:8080/",
     "height": 185
    },
    "colab_type": "code",
    "id": "vHQvxNnZz8zU",
    "outputId": "20884114-b800-44ec-cea2-7b476e4effdb"
   },
   "outputs": [
    {
     "ename": "NameError",
     "evalue": "ignored",
     "output_type": "error",
     "traceback": [
      "\u001b[0;31m---------------------------------------------------------------------------\u001b[0m",
      "\u001b[0;31mNameError\u001b[0m                                 Traceback (most recent call last)",
      "\u001b[0;32m<ipython-input-1-ad285c1de07a>\u001b[0m in \u001b[0;36m<module>\u001b[0;34m()\u001b[0m\n\u001b[0;32m----> 1\u001b[0;31m \u001b[0mprint\u001b[0m\u001b[0;34m(\u001b[0m\u001b[0mghi_df\u001b[0m\u001b[0;34m.\u001b[0m\u001b[0mdtypes\u001b[0m\u001b[0;34m)\u001b[0m\u001b[0;34m\u001b[0m\u001b[0;34m\u001b[0m\u001b[0m\n\u001b[0m\u001b[1;32m      2\u001b[0m \u001b[0mghi_df\u001b[0m\u001b[0;34m\u001b[0m\u001b[0;34m\u001b[0m\u001b[0m\n",
      "\u001b[0;31mNameError\u001b[0m: name 'ghi_df' is not defined"
     ]
    }
   ],
   "source": [
    "print(ghi_df.dtypes)"
   ]
  },
  {
   "cell_type": "markdown",
   "metadata": {
    "colab_type": "text",
    "id": "U0M4dz9RtbwI"
   },
   "source": [
    "# New section"
   ]
  },
  {
   "cell_type": "code",
   "execution_count": null,
   "metadata": {
    "colab": {},
    "colab_type": "code",
    "id": "-cck0yUR1wLT"
   },
   "outputs": [],
   "source": [
    "#plt.plot(dec_22_2019['time2'], dec_22_2019['PVOUT_AVG'])"
   ]
  },
  {
   "cell_type": "code",
   "execution_count": null,
   "metadata": {
    "colab": {
     "base_uri": "https://localhost:8080/",
     "height": 260
    },
    "colab_type": "code",
    "id": "TdIDi6_jvq1R",
    "outputId": "01657bae-e6f2-4360-b775-2384b18d2660"
   },
   "outputs": [
    {
     "name": "stdout",
     "output_type": "stream",
     "text": [
      "             date  ...                      time\n",
      "0      2012-02-06  ... 2012-02-06 00:30:00+08:00\n",
      "1      2012-02-06  ... 2012-02-06 01:00:00+08:00\n",
      "2      2012-02-06  ... 2012-02-06 01:30:00+08:00\n",
      "3      2012-02-06  ... 2012-02-06 02:00:00+08:00\n",
      "4      2012-02-06  ... 2012-02-06 02:30:00+08:00\n",
      "...           ...  ...                       ...\n",
      "75931  2016-06-05  ... 2016-06-05 22:00:00+08:00\n",
      "75932  2016-06-05  ... 2016-06-05 22:30:00+08:00\n",
      "75933  2016-06-05  ... 2016-06-05 23:00:00+08:00\n",
      "75934  2016-06-05  ... 2016-06-05 23:30:00+08:00\n",
      "75935  2016-06-06  ... 2016-06-06 00:00:00+08:00\n",
      "\n",
      "[75936 rows x 7 columns]\n"
     ]
    }
   ],
   "source": [
    "# Let's plot a duck graph\n",
    "\n",
    "df['datetime'] = df[\"date\"] + \" \" + df[\"period_ending_time\"]\n",
    "\n",
    "df['time'] = pd.to_datetime(df[\"datetime\"]).dt.tz_localize(tz=\"Asia/Singapore\")\n",
    "\n",
    "print(df)\n",
    "\n",
    "x = pd.Timedelta(days=365*4)\n",
    "\n",
    "df['time2'] = df['time'] + x"
   ]
  },
  {
   "cell_type": "code",
   "execution_count": null,
   "metadata": {
    "colab": {
     "base_uri": "https://localhost:8080/",
     "height": 295
    },
    "colab_type": "code",
    "id": "gAY7nV5X0BzA",
    "outputId": "c4cc51f6-9a22-464a-cc1d-1242fdf89481"
   },
   "outputs": [
    {
     "name": "stdout",
     "output_type": "stream",
     "text": [
      "date                                            object\n",
      "period_ending_time                              object\n",
      "system_demand_actual                           float64\n",
      "nem_demand_actual                               object\n",
      "nem_demand_forecast                             object\n",
      "datetime                                        object\n",
      "time                    datetime64[ns, Asia/Singapore]\n",
      "time2                   datetime64[ns, Asia/Singapore]\n",
      "dtype: object\n",
      "Time                                 object\n",
      "Timezone                             object\n",
      "GHI_AVG                             float64\n",
      "PVOUT_AVG                           float64\n",
      "time                         datetime64[ns]\n",
      "time2        datetime64[ns, Asia/Singapore]\n",
      "dtype: object\n"
     ]
    }
   ],
   "source": [
    "print(df.dtypes)\n",
    "print(ghi_df.dtypes)\n",
    "\n",
    "# This merge just chops off the 5 minute estimates...\n",
    "mdf = pd.merge(df, ghi_df, on=\"time2\", how='left')"
   ]
  },
  {
   "cell_type": "code",
   "execution_count": null,
   "metadata": {
    "colab": {},
    "colab_type": "code",
    "id": "NkwqjPyM7BfV"
   },
   "outputs": [],
   "source": [
    "# Convert actual system demand from megawatts to watts\n",
    "mdf['system_demand_actual'] = mdf['system_demand_actual'] * 1e6"
   ]
  },
  {
   "cell_type": "code",
   "execution_count": null,
   "metadata": {
    "colab": {
     "base_uri": "https://localhost:8080/",
     "height": 139
    },
    "colab_type": "code",
    "id": "NEVfcpg24dKy",
    "outputId": "593bf9d8-80d9-420a-e607-518fd1ac90c0"
   },
   "outputs": [
    {
     "name": "stdout",
     "output_type": "stream",
     "text": [
      "Supply exceeds demand\n",
      "148666008529.0656\n",
      "148651500000.0\n",
      "14508529.065638542\n",
      "197800000\n",
      "What's wrong with this?\n",
      "10783.323047719003\n"
     ]
    }
   ],
   "source": [
    "# Calculate the area necessary to meet peak demand\n",
    "# The WHI or PVOUT average is in watts per squared meter.\n",
    "\n",
    "# First restrict only to a single day.\n",
    "\n",
    "ndf = mdf[mdf['time2'].between('2019-07-01', '2019-07-02')]\n",
    "\n",
    "AREA = 0\n",
    "\n",
    "for a in range(0, 10000000000, 100000):\n",
    "  total_net_supply = (((ndf['PVOUT_AVG'] * a) - ndf['system_demand_actual']).sum()) /2\n",
    "  #total_net_supply = (ndf['net_supply'].sum())\n",
    "  #print(total_net_supply)\n",
    "  if total_net_supply > 0:\n",
    "    print(\"Supply exceeds demand\")\n",
    "    print((ndf['PVOUT_AVG'] * a).sum()/2)\n",
    "    print((ndf['system_demand_actual']).sum()/2)\n",
    "    print(total_net_supply)\n",
    "    print(a)\n",
    "    AREA = a\n",
    "    break\n",
    "\n",
    "# What's going on here? Makes no sense...\n",
    "\n",
    "print(\"What's wrong with this?\")\n",
    "\n",
    "mdf['net_supply'] = ((mdf['PVOUT_AVG'] * AREA) - mdf['system_demand_actual'])\n",
    "ndf = mdf[mdf['time2'].between('2019-07-01', '2019-07-02')]\n",
    "\n",
    "print(ndf['GHI_AVG'].sum())\n",
    "\n",
    "#print((mdf['PVOUT_AVG'] * AREA).sum())\n",
    "#print((mdf['system_demand_actual']).sum())\n",
    "#print((mdf['PVOUT_AVG'] * AREA).sum() - (mdf['system_demand_actual']).sum())\n",
    "#print(((mdf['PVOUT_AVG'] * AREA) - (mdf['system_demand_actual'])).sum())\n",
    "\n",
    "#print(mdf['net_supply'].sum())\n",
    "\n",
    "#ndf\n",
    "#ndf"
   ]
  },
  {
   "cell_type": "code",
   "execution_count": null,
   "metadata": {
    "colab": {
     "base_uri": "https://localhost:8080/",
     "height": 619
    },
    "colab_type": "code",
    "id": "01Wywy4e480Q",
    "outputId": "d2d44f38-56ce-48cb-de76-86ec6947827c"
   },
   "outputs": [
    {
     "data": {
      "text/plain": [
       "<matplotlib.collections.PolyCollection at 0x7f89ebe76390>"
      ]
     },
     "execution_count": 27,
     "metadata": {
      "tags": []
     },
     "output_type": "execute_result"
    },
    {
     "data": {
      "image/png": "[encoded data removed]",
      "text/plain": [
       "<Figure size 720x720 with 1 Axes>"
      ]
     },
     "metadata": {
      "needs_background": "light",
      "tags": []
     },
     "output_type": "display_data"
    }
   ],
   "source": [
    "fig, ax = plt.subplots(figsize = [10,10])\n",
    "plt.plot(ndf['time2'], ndf['PVOUT_AVG'] * AREA)\n",
    "plt.plot(ndf['time2'], ndf['system_demand_actual'])\n",
    "plt.plot(ndf['time2'], ndf['net_supply'])\n",
    "ax.axhline(0, color='k')\n",
    "ax.fill_between(ndf['time2'], 0, ndf['net_supply'], color = 'lightgreen')"
   ]
  }
 ],
 "metadata": {
  "colab": {
   "collapsed_sections": [],
   "name": "solar_exploration.ipynb",
   "provenance": []
  },
  "kernelspec": {
   "display_name": "Python 3",
   "language": "python",
   "name": "python3"
  },
  "language_info": {
   "codemirror_mode": {
    "name": "ipython",
    "version": 3
   },
   "file_extension": ".py",
   "mimetype": "text/x-python",
   "name": "python",
   "nbconvert_exporter": "python",
   "pygments_lexer": "ipython3",
   "version": "3.8.2"
  }
 },
 "nbformat": 4,
 "nbformat_minor": 1
}
